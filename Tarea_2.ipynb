{
  "nbformat": 4,
  "nbformat_minor": 0,
  "metadata": {
    "colab": {
      "provenance": [],
      "authorship_tag": "ABX9TyN3YsR807+s4iysKDZv4f2V",
      "include_colab_link": true
    },
    "kernelspec": {
      "name": "python3",
      "display_name": "Python 3"
    },
    "language_info": {
      "name": "python"
    }
  },
  "cells": [
    {
      "cell_type": "markdown",
      "metadata": {
        "id": "view-in-github",
        "colab_type": "text"
      },
      "source": [
        "<a href=\"https://colab.research.google.com/github/xRick1x/Programacion_en_Python/blob/main/Tarea_2.ipynb\" target=\"_parent\"><img src=\"https://colab.research.google.com/assets/colab-badge.svg\" alt=\"Open In Colab\"/></a>"
      ]
    },
    {
      "cell_type": "code",
      "execution_count": null,
      "metadata": {
        "id": "CQ6lF4BFB33P"
      },
      "outputs": [],
      "source": [
        "\"\"\"\n",
        "Inicio\n",
        "Obtener la base del triángulo\n",
        "Obtener la altura del triángulo\n",
        "Realizar el cálculo para hallar el área del triángulo\n",
        "Mostrar el resultado al usuario\n",
        "Fin\n",
        "\"\"\""
      ]
    },
    {
      "cell_type": "code",
      "source": [
        "base = int(input('Por favor ingrese la base del triángulo: '))\n",
        "altura = int(input('Por favor ingrese la altura del triángulo: '))\n",
        "área = base*altura/2\n",
        "print(f\"El área del triángulo es {área}\")"
      ],
      "metadata": {
        "colab": {
          "base_uri": "https://localhost:8080/"
        },
        "id": "vV6SqVBACLIU",
        "outputId": "df2d997c-f16d-4ace-e86a-02d89dd75014"
      },
      "execution_count": 2,
      "outputs": [
        {
          "output_type": "stream",
          "name": "stdout",
          "text": [
            "Por favor ingrese la base del triángulo: 3\n",
            "Por favor ingrese la altura del triángulo: 2\n",
            "El área del triángulo es 3.0\n"
          ]
        }
      ]
    },
    {
      "cell_type": "code",
      "source": [
        "\"\"\"\n",
        "Inicio\n",
        "Obtener la primera cadena del texto del usuario\n",
        "Obtener la segunda cadena del texto del usario\n",
        "Unir la primera cadena del texto del usuario\n",
        "Mostrar el resultado\n",
        "Fin\n",
        "\"\"\""
      ],
      "metadata": {
        "id": "lIIRwT6GDiQ4"
      },
      "execution_count": null,
      "outputs": []
    },
    {
      "cell_type": "code",
      "source": [
        "primer_texto = input('Por favor ingresar primer texto: ')\n",
        "primer_texto1 = primer_texto.strip()\n",
        "primer_texto2 = primer_texto1.capitalize()\n",
        "segundo_texto = input('Por favor ingresar segundo texto: ')\n",
        "segundo_texto1 = segundo_texto.strip()\n",
        "segundo_texto2 = segundo_texto1.capitalize()\n",
        "frase_combinada = \"{} {}\".format(primer_texto2,segundo_texto2)\n",
        "print(frase_combinada)"
      ],
      "metadata": {
        "colab": {
          "base_uri": "https://localhost:8080/"
        },
        "id": "Ng7SDogcD7V6",
        "outputId": "d24ee0ec-376a-462d-f956-fae09d3ff2c8"
      },
      "execution_count": 28,
      "outputs": [
        {
          "output_type": "stream",
          "name": "stdout",
          "text": [
            "Por favor ingresar primer texto:    RIchArD\n",
            "Por favor ingresar segundo texto:    mOnDacA\n",
            "Richard Mondaca\n"
          ]
        }
      ]
    },
    {
      "cell_type": "code",
      "source": [
        "\"\"\"\n",
        "Inicio\n",
        "Obtener el monto total de la cuenta\n",
        "Solicitar el porcentaje de propina que se desea brindar\n",
        "Realizar el cálculo de la propina a dar\n",
        "Calcular el monto total a pagar incluyendo propina\n",
        "Mostrar el monto de la propina y el total a pagar\n",
        "Fin\n",
        "\"\"\""
      ],
      "metadata": {
        "id": "Pov2qRxmJDel"
      },
      "execution_count": null,
      "outputs": []
    },
    {
      "cell_type": "code",
      "source": [
        "importe = float(input('Por favor ingresar el monto de la boleta/factura: '))\n",
        "porcentaje_propina_str = input('Por favor ingresar el porcentaje de propina que se desea brindar: ')\n",
        "porcentaje_propina = float(porcentaje_propina_str.replace('%',''))/100\n",
        "propina = importe*porcentaje_propina\n",
        "total = propina+importe\n",
        "print(f\"Se brindará {propina:.2f} soles de propina, y el monto total a cancelar incluyendo propina es {total}\")\n"
      ],
      "metadata": {
        "colab": {
          "base_uri": "https://localhost:8080/"
        },
        "id": "aoRsI_R3Jug3",
        "outputId": "3777e741-9b48-404c-aabd-0d63b6092a4a"
      },
      "execution_count": 38,
      "outputs": [
        {
          "output_type": "stream",
          "name": "stdout",
          "text": [
            "Por favor ingresar el monto de la boleta/factura: 234\n",
            "Por favor ingresar el porcentaje de propina que se desea brindar: 27%\n",
            "Se brindará 63.18 soles de propina, y el monto total a cancelar incluyendo propina es 297.18\n"
          ]
        }
      ]
    },
    {
      "cell_type": "code",
      "source": [
        "\"\"\"\n",
        "Inicio\n",
        "Preguntar por el tipo de mascota\n",
        "Calcular la edad de la mascota en años\n",
        "Mostrar resultados\n",
        "Fin\n",
        "\"\"\""
      ],
      "metadata": {
        "id": "TcS9dH_xN2tA"
      },
      "execution_count": null,
      "outputs": []
    },
    {
      "cell_type": "code",
      "source": [
        "mascota = input('Ingrese su tipo de mascota (Perro o Gato): ').lower()\n",
        "edad = int(input('Ingresa la edad de tu mascota: '))\n",
        "if mascota == 'perro':\n",
        "  edad_mascota = edad*7\n",
        "  print(f'Tu mascota tiene {edad_mascota} años')\n",
        "elif mascota == 'gato':\n",
        "  edad_mascota = edad*6\n",
        "  print(f'Tu mascota tiene {edad_mascota} años')\n",
        "else:\n",
        "  edad_mascota = 'Solo elegir Perro o Gato'\n",
        "  print(edad_mascota)"
      ],
      "metadata": {
        "colab": {
          "base_uri": "https://localhost:8080/"
        },
        "id": "YFZO-M7VN84N",
        "outputId": "a877cefc-425b-4d04-fdbd-8a3bbc162e6d"
      },
      "execution_count": 42,
      "outputs": [
        {
          "output_type": "stream",
          "name": "stdout",
          "text": [
            "Ingrese su tipo de mascota (Perro o Gato): PeRRO\n",
            "Ingresa la edad de tu mascota: 14\n",
            "Tu mascota tiene 98 años\n"
          ]
        }
      ]
    },
    {
      "cell_type": "code",
      "source": [
        "\"\"\"\n",
        "Inicio\n",
        "Preguntar importe de inversión\n",
        "Preguntar tasa de interés anual en porcentaje\n",
        "Preguntar el horizonte de inversión\n",
        "Realizar el cálculo compuesto\n",
        "Mostrar el resultado final\n",
        "\"\"\""
      ],
      "metadata": {
        "id": "R_Gp-GiOPfFf"
      },
      "execution_count": null,
      "outputs": []
    },
    {
      "cell_type": "code",
      "source": [
        "inversión = int(input('Por favor ingrese el importe a invertir: '))\n",
        "tasa_str = input('Por favor ingrese el retorno esperado en porcentaje: ')\n",
        "tasa= float(tasa_str.replace(\"%\",\" \"))/100\n",
        "horizonte = float(input('Por favor ingrese el horizonte de inversión en años: '))\n",
        "total = inversión*((1+tasa)**horizonte)\n",
        "print(f\"El monto total que cobrarás al finalizar el vencimiento de tu inversión es {total:.2f}\")"
      ],
      "metadata": {
        "colab": {
          "base_uri": "https://localhost:8080/"
        },
        "id": "F3dmRQkGP2wq",
        "outputId": "533c36a1-2b94-4fdd-9597-4f384986e094"
      },
      "execution_count": 44,
      "outputs": [
        {
          "output_type": "stream",
          "name": "stdout",
          "text": [
            "Por favor ingrese el importe a invertir: 100\n",
            "Por favor ingrese el retorno esperado en porcentaje: 10%\n",
            "Por favor ingrese el horizonte de inversión en años: 10\n",
            "El monto total que cobrarás al finalizar el vencimiento de tu inversión es 259.37\n"
          ]
        }
      ]
    },
    {
      "cell_type": "code",
      "source": [
        "\"\"\"\n",
        "Inicio\n",
        "Solicitar el peso en Kg.\n",
        "Solicitar el tiempo que se ejercita en el día en minutos.\n",
        "Asignar cuántas calorías puede quemar por minuto en base a su peso\n",
        "Cálcular el importe  de calorías que puede quemar en el día.\n",
        "Mostrar el resultato\n",
        "Fin\n",
        "\"\"\"\n"
      ],
      "metadata": {
        "id": "G8KzOTA7RvM4"
      },
      "execution_count": null,
      "outputs": []
    },
    {
      "cell_type": "code",
      "source": [
        "peso = int(input('Ingresar por favor su peso: '))\n",
        "tiempo_ejercicio = int(input('Por favor ingrese los minutos diarios que utiliza para ejercitarse: '))\n",
        "if peso >= int(80):\n",
        "  total = tiempo_ejercicio*8\n",
        "else:\n",
        "  total = tiempo_ejercicio*6\n",
        "print(f\"Usted quemó un total de {total} calorias\")"
      ],
      "metadata": {
        "colab": {
          "base_uri": "https://localhost:8080/"
        },
        "id": "2eY919NGUsRS",
        "outputId": "4512f5ca-0e0d-4c45-ebf8-674af982f2f9"
      },
      "execution_count": 48,
      "outputs": [
        {
          "output_type": "stream",
          "name": "stdout",
          "text": [
            "Ingresar por favor su peso: 85\n",
            "Por favor ingrese los minutos diarios que utiliza para ejercitarse: 30\n",
            "Usted quemó un total de 240 calorias\n"
          ]
        }
      ]
    }
  ]
}