{
  "nbformat": 4,
  "nbformat_minor": 0,
  "metadata": {
    "colab": {
      "provenance": [],
      "authorship_tag": "ABX9TyMzUoaktkTRKjzPfaS/3f82",
      "include_colab_link": true
    },
    "kernelspec": {
      "name": "python3",
      "display_name": "Python 3"
    },
    "language_info": {
      "name": "python"
    }
  },
  "cells": [
    {
      "cell_type": "markdown",
      "metadata": {
        "id": "view-in-github",
        "colab_type": "text"
      },
      "source": [
        "<a href=\"https://colab.research.google.com/github/xRick1x/Programacion_en_Python/blob/main/Modulo1_ejercicio.ipynb\" target=\"_parent\"><img src=\"https://colab.research.google.com/assets/colab-badge.svg\" alt=\"Open In Colab\"/></a>"
      ]
    },
    {
      "cell_type": "markdown",
      "source": [
        "####Algoritmo\n",
        "####Obtener dos números\n",
        "####Sumar los dos números\n",
        "####Muestro el resultado"
      ],
      "metadata": {
        "id": "QfSZQ4qGjVLS"
      }
    },
    {
      "cell_type": "code",
      "source": [
        "\"\"\"\n",
        "Inicio\n",
        ".... Leer primer número\n",
        ".... Leer segunddo número\n",
        ".... Resultado = primer número + segundo número\n",
        ".... Esribir resultado\n",
        "Fin\n",
        "\"\"\""
      ],
      "metadata": {
        "id": "3NPHzgdSsNo6"
      },
      "execution_count": null,
      "outputs": []
    },
    {
      "cell_type": "code",
      "source": [
        "#Asignar un valor a un objeto\n",
        "a = 20\n",
        "b = 30"
      ],
      "metadata": {
        "id": "AFGioz3ssv3r"
      },
      "execution_count": 5,
      "outputs": []
    },
    {
      "cell_type": "code",
      "source": [
        "a + b"
      ],
      "metadata": {
        "colab": {
          "base_uri": "https://localhost:8080/"
        },
        "id": "IV9OrpE8tf79",
        "outputId": "d09f61ad-8e05-4285-bc53-28a3c0995c36"
      },
      "execution_count": 6,
      "outputs": [
        {
          "output_type": "execute_result",
          "data": {
            "text/plain": [
              "50"
            ]
          },
          "metadata": {},
          "execution_count": 6
        }
      ]
    },
    {
      "cell_type": "code",
      "source": [
        "a = input('Ingrese el primer número: ')"
      ],
      "metadata": {
        "colab": {
          "base_uri": "https://localhost:8080/"
        },
        "id": "RJeoYZWjuOQa",
        "outputId": "8b59ffa7-14a1-4a6a-f470-53b4f0092011"
      },
      "execution_count": 8,
      "outputs": [
        {
          "name": "stdout",
          "output_type": "stream",
          "text": [
            "Ingrese el primer número: 1\n"
          ]
        }
      ]
    },
    {
      "cell_type": "code",
      "source": [
        "a"
      ],
      "metadata": {
        "colab": {
          "base_uri": "https://localhost:8080/",
          "height": 35
        },
        "id": "-eAhbUmsuq7B",
        "outputId": "e1f40f00-1851-44c9-8372-9e07c44938cc"
      },
      "execution_count": 9,
      "outputs": [
        {
          "output_type": "execute_result",
          "data": {
            "text/plain": [
              "'1'"
            ],
            "application/vnd.google.colaboratory.intrinsic+json": {
              "type": "string"
            }
          },
          "metadata": {},
          "execution_count": 9
        }
      ]
    },
    {
      "cell_type": "code",
      "source": [
        "b = input('Ingrese el segundo número: ')"
      ],
      "metadata": {
        "colab": {
          "base_uri": "https://localhost:8080/"
        },
        "id": "scZuRUy4uvs9",
        "outputId": "46eaf6b7-a79c-4236-abb8-9c21800cd58d"
      },
      "execution_count": 10,
      "outputs": [
        {
          "name": "stdout",
          "output_type": "stream",
          "text": [
            "Ingrese el segundo número: 10\n"
          ]
        }
      ]
    },
    {
      "cell_type": "code",
      "source": [
        "Resultado = a+b"
      ],
      "metadata": {
        "id": "2zWsjuX-u8Co"
      },
      "execution_count": 14,
      "outputs": []
    },
    {
      "cell_type": "code",
      "source": [
        "Resultado"
      ],
      "metadata": {
        "colab": {
          "base_uri": "https://localhost:8080/",
          "height": 35
        },
        "id": "n3Uc3BVwvIjM",
        "outputId": "d76f5957-0967-4171-a6a0-3a63a4282a11"
      },
      "execution_count": 15,
      "outputs": [
        {
          "output_type": "execute_result",
          "data": {
            "text/plain": [
              "'110'"
            ],
            "application/vnd.google.colaboratory.intrinsic+json": {
              "type": "string"
            }
          },
          "metadata": {},
          "execution_count": 15
        }
      ]
    },
    {
      "cell_type": "code",
      "source": [
        "#Tengo que realizar un cast o casteo (cambiar de letra a número, entero)\n",
        "a = input('Ingrese el primer número: ')\n",
        "c = int(a)\n",
        "b = input('Ingrese el segundo número: ')\n",
        "d = int(b)\n",
        "c+d"
      ],
      "metadata": {
        "colab": {
          "base_uri": "https://localhost:8080/"
        },
        "id": "_KQEazBfv_dH",
        "outputId": "4627f476-3b54-47f9-a488-0be076d70d6d"
      },
      "execution_count": 19,
      "outputs": [
        {
          "name": "stdout",
          "output_type": "stream",
          "text": [
            "Ingrese el primer número: 1\n",
            "Ingrese el segundo número: 2\n"
          ]
        },
        {
          "output_type": "execute_result",
          "data": {
            "text/plain": [
              "3"
            ]
          },
          "metadata": {},
          "execution_count": 19
        }
      ]
    },
    {
      "cell_type": "code",
      "source": [
        "#Tengo que realizar un cast o casteo (cambiar de letra a número, entero) - Método eficiente\n",
        "a = int(input('Ingrese el primer número: '))\n",
        "b = int(input('Ingrese el segundo número: '))\n",
        "resultado = a + b\n",
        "print('El resultado es: ',resultado)"
      ],
      "metadata": {
        "colab": {
          "base_uri": "https://localhost:8080/"
        },
        "id": "iJUUz0S3xsSg",
        "outputId": "41982842-8642-423b-e53f-9a7662ee0cbc"
      },
      "execution_count": 24,
      "outputs": [
        {
          "output_type": "stream",
          "name": "stdout",
          "text": [
            "Ingrese el primer número: 10\n",
            "Ingrese el segundo número: 20\n",
            "El resultado es:  30\n"
          ]
        }
      ]
    },
    {
      "cell_type": "code",
      "source": [
        "\"\"\"\n",
        "Inicio\n",
        "Recibir la temperatura en grados celsius\n",
        "Aplicar la fórmula de conversión\n",
        "Imprimir el resultado\n",
        "Fin\n",
        "\"\"\""
      ],
      "metadata": {
        "id": "ZySmaJ93ywaS"
      },
      "execution_count": null,
      "outputs": []
    },
    {
      "cell_type": "code",
      "source": [
        "a = int(input('Ingrese la temperatura en C°: '))\n",
        "resultado = a * 9 / 5 + 32\n",
        "print('La temperatura en Fahrenheit es: ', resultado)"
      ],
      "metadata": {
        "colab": {
          "base_uri": "https://localhost:8080/"
        },
        "id": "XIN85SqizasW",
        "outputId": "e74ef5c4-f9d8-46af-d1f1-d61d266d50aa"
      },
      "execution_count": 27,
      "outputs": [
        {
          "output_type": "stream",
          "name": "stdout",
          "text": [
            "Ingrese la temperatura en C°: 30\n",
            "La temperatura en Fahrenheit es:  86.0\n"
          ]
        }
      ]
    }
  ]
}