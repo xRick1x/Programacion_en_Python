{
  "nbformat": 4,
  "nbformat_minor": 0,
  "metadata": {
    "colab": {
      "provenance": [],
      "authorship_tag": "ABX9TyNeZYt80kQ0S0XvZlaq5rJY",
      "include_colab_link": true
    },
    "kernelspec": {
      "name": "python3",
      "display_name": "Python 3"
    },
    "language_info": {
      "name": "python"
    }
  },
  "cells": [
    {
      "cell_type": "markdown",
      "metadata": {
        "id": "view-in-github",
        "colab_type": "text"
      },
      "source": [
        "<a href=\"https://colab.research.google.com/github/xRick1x/Programacion_en_Python/blob/main/29_04_24.ipynb\" target=\"_parent\"><img src=\"https://colab.research.google.com/assets/colab-badge.svg\" alt=\"Open In Colab\"/></a>"
      ]
    },
    {
      "cell_type": "code",
      "execution_count": 3,
      "metadata": {
        "colab": {
          "base_uri": "https://localhost:8080/"
        },
        "id": "BwiqcZT6neCe",
        "outputId": "76eb3e7e-d4bc-4347-ea96-0c9805070d7a"
      },
      "outputs": [
        {
          "output_type": "stream",
          "name": "stdout",
          "text": [
            "Por favor, introduce tu edad: 25\n",
            "Por favor, introduce el nombre de tu universidad: UP\n",
            "Por favor, introduce tu distrito de vivienda: San Martín\n",
            "Gracias por proporcionar tu información.\n",
            "La información que nos diste es: [25, 'UP', 'San Martín']\n"
          ]
        }
      ],
      "source": [
        "usuario = []\n",
        "\n",
        "edad = int(input(\"Por favor, introduce tu edad: \"))\n",
        "usuario.append(edad)\n",
        "\n",
        "universidad = input(\"Por favor, introduce el nombre de tu universidad: \")\n",
        "usuario.append(universidad)\n",
        "\n",
        "distrito_vivienda = input(\"Por favor, introduce tu distrito de vivienda: \")\n",
        "usuario.append(distrito_vivienda)\n",
        "\n",
        "print(\"Gracias por proporcionar tu información.\")\n",
        "print(\"La información que nos diste es:\", usuario)\n"
      ]
    },
    {
      "cell_type": "code",
      "source": [
        "lista = [\"John\", \"Carlos\", \"Jose\"]\n",
        "for name in lista:\n",
        "  print(f'Bienvenido {name}')\n",
        "print(\"Gracias por asistir!\")"
      ],
      "metadata": {
        "colab": {
          "base_uri": "https://localhost:8080/"
        },
        "id": "fAbHvVQb0JPk",
        "outputId": "0259926c-6065-4aeb-f04a-02c54778de65"
      },
      "execution_count": 4,
      "outputs": [
        {
          "output_type": "stream",
          "name": "stdout",
          "text": [
            "Bienvenido John\n",
            "Bienvenido Carlos\n",
            "Bienvenido Jose\n",
            "Gracias por asistir!\n"
          ]
        }
      ]
    },
    {
      "cell_type": "code",
      "source": [
        "for múltiplo_de_7 in range(1,100):\n",
        "  if múltiplo_de_7 % 7 == 0:\n",
        "    print(múltiplo_de_7)"
      ],
      "metadata": {
        "colab": {
          "base_uri": "https://localhost:8080/"
        },
        "id": "LTHQ2hTE0i9i",
        "outputId": "1d7a9ace-f1a7-47cf-846c-ab30f067a7c9"
      },
      "execution_count": 17,
      "outputs": [
        {
          "output_type": "stream",
          "name": "stdout",
          "text": [
            "7\n",
            "14\n",
            "21\n",
            "28\n",
            "35\n",
            "42\n",
            "49\n",
            "56\n",
            "63\n",
            "70\n",
            "77\n",
            "84\n",
            "91\n",
            "98\n"
          ]
        }
      ]
    },
    {
      "cell_type": "code",
      "source": [
        "\"\"\"\n",
        "Almacene en una lista todos los nùmeros mùltiplos de 7 menores que 100. Luego imprima la lista.\n",
        "\"\"\""
      ],
      "metadata": {
        "id": "ifRCH8tb43fR"
      },
      "execution_count": null,
      "outputs": []
    },
    {
      "cell_type": "code",
      "source": [
        "dato = []\n",
        "for num in range(0, 100):\n",
        "  if num % 7 == 0:\n",
        "    dato.append(num)\n",
        "print(dato)\n"
      ],
      "metadata": {
        "colab": {
          "base_uri": "https://localhost:8080/"
        },
        "id": "RSpRvCsw3WHS",
        "outputId": "8d47bd18-a189-432f-b5b6-c2afef41ae58"
      },
      "execution_count": 41,
      "outputs": [
        {
          "output_type": "stream",
          "name": "stdout",
          "text": [
            "[0, 7, 14, 21, 28, 35, 42, 49, 56, 63, 70, 77, 84, 91, 98]\n"
          ]
        }
      ]
    },
    {
      "cell_type": "code",
      "source": [
        "n = int(input('Ingrese el número límite a evaluar: '))\n",
        "x = int(input('Ingrese el múltiplo a evaluar: '))\n",
        "dato = []\n",
        "for num in range(0, n+1):\n",
        "  if num % x == 0:\n",
        "    dato.append(num)\n",
        "\n",
        "print(dato)"
      ],
      "metadata": {
        "colab": {
          "base_uri": "https://localhost:8080/"
        },
        "id": "VZ9ubOeU7UrW",
        "outputId": "610e5c3a-2c12-4258-b13b-2e24ad08d2ee"
      },
      "execution_count": 52,
      "outputs": [
        {
          "output_type": "stream",
          "name": "stdout",
          "text": [
            "Ingrese el número límite a evaluar: 50\n",
            "Ingrese el múltiplo a evaluar: 5\n",
            "[0, 5, 10, 15, 20, 25, 30, 35, 40, 45, 50]\n"
          ]
        }
      ]
    },
    {
      "cell_type": "code",
      "source": [
        "# Solicitar al usuario el número límite y el múltiplo a evaluar\n",
        "n = int(input('Ingrese el número límite a evaluar: '))\n",
        "x = int(input('Ingrese el múltiplo a evaluar: '))\n",
        "\n",
        "# Crear una lista vacía para almacenar los múltiplos\n",
        "dato = []\n",
        "\n",
        "# Recorrer todos los números desde 0 hasta n (inclusive)\n",
        "for num in range(0, n+1):\n",
        "    if num % x == 0:  # Comprobar si num es múltiplo de x\n",
        "        dato.append(num)\n",
        "\n",
        "# Imprimir la lista de múltiplos\n",
        "print(dato)\n"
      ],
      "metadata": {
        "colab": {
          "base_uri": "https://localhost:8080/"
        },
        "id": "InPqKkvz-Qdg",
        "outputId": "3448281d-ed0a-438c-ba91-a6b7525bdf19"
      },
      "execution_count": 51,
      "outputs": [
        {
          "output_type": "stream",
          "name": "stdout",
          "text": [
            "Ingrese el número límite a evaluar: 50\n",
            "Ingrese el múltiplo a evaluar: 5\n",
            "[0, 5, 10, 15, 20, 25, 30, 35, 40, 45, 50]\n"
          ]
        }
      ]
    }
  ]
}