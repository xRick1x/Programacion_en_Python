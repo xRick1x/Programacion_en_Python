{
  "nbformat": 4,
  "nbformat_minor": 0,
  "metadata": {
    "colab": {
      "provenance": [],
      "authorship_tag": "ABX9TyPwyntmCCj22C3olNkVP5QT",
      "include_colab_link": true
    },
    "kernelspec": {
      "name": "python3",
      "display_name": "Python 3"
    },
    "language_info": {
      "name": "python"
    }
  },
  "cells": [
    {
      "cell_type": "markdown",
      "metadata": {
        "id": "view-in-github",
        "colab_type": "text"
      },
      "source": [
        "<a href=\"https://colab.research.google.com/github/xRick1x/Programacion_en_Python/blob/main/Tarea_4.ipynb\" target=\"_parent\"><img src=\"https://colab.research.google.com/assets/colab-badge.svg\" alt=\"Open In Colab\"/></a>"
      ]
    },
    {
      "cell_type": "code",
      "execution_count": 14,
      "metadata": {
        "colab": {
          "base_uri": "https://localhost:8080/"
        },
        "id": "NG5CbSKCdYu3",
        "outputId": "c6c128ab-9269-4014-80f2-4d17bf05d395"
      },
      "outputs": [
        {
          "output_type": "stream",
          "name": "stdout",
          "text": [
            "Por favor ingrese todos los ingredientes que desea para su pizza, cuando termine por favor escriba salir: tomate\n",
            "Por favor ingrese todos los ingredientes que desea para su pizza, cuando termine por favor escriba salir: lechuga\n",
            "Por favor ingrese todos los ingredientes que desea para su pizza, cuando termine por favor escriba salir: peperoni\n",
            "Por favor ingrese todos los ingredientes que desea para su pizza, cuando termine por favor escriba salir: salir\n",
            "Los ingredientes de tu pizza son: ['tomate', 'lechuga', 'peperoni']\n"
          ]
        }
      ],
      "source": [
        "datos = []\n",
        "\n",
        "while True:\n",
        "  ingredientes = input('Por favor ingrese todos los ingredientes que desea para su pizza, cuando termine por favor escriba salir: ')\n",
        "  if ingredientes == 'salir':\n",
        "    break\n",
        "  datos.append(ingredientes)\n",
        "\n",
        "print(f'Los ingredientes de tu pizza son: {datos}')\n",
        "\n",
        ""
      ]
    },
    {
      "cell_type": "code",
      "source": [
        "while True:\n",
        "  dato = int(input('Por favor ingrese su edad, de lo contrario ingrese \"0\" para terminar: '))\n",
        "  try:\n",
        "    edad = int(dato)\n",
        "    if edad == 0:\n",
        "      break\n",
        "    elif edad < 3:\n",
        "      print(\"La entrada es gratuita\")\n",
        "    elif edad <= 12:\n",
        "      print(\"La entrada es S/ 10\")\n",
        "    else:\n",
        "      print(\"La entrada es S/15\")\n",
        "  except ValueError:\n",
        "    print('Por favor ingrese su edad, de lo contrario ingrese \"0\" para terminar: ')\n"
      ],
      "metadata": {
        "colab": {
          "base_uri": "https://localhost:8080/"
        },
        "id": "pWfjifmRtn1o",
        "outputId": "0b3c1960-b17d-4263-a2ca-61a8620167fa"
      },
      "execution_count": 47,
      "outputs": [
        {
          "name": "stdout",
          "output_type": "stream",
          "text": [
            "Por favor ingrese su edad, de lo contrario ingrese \"0\" para terminar: 50\n",
            "La entrada es S/15\n",
            "Por favor ingrese su edad, de lo contrario ingrese \"0\" para terminar: 10\n",
            "La entrada es S/ 10\n",
            "Por favor ingrese su edad, de lo contrario ingrese \"0\" para terminar: 2\n",
            "La entrada es gratuita\n",
            "Por favor ingrese su edad, de lo contrario ingrese \"0\" para terminar: 3\n",
            "La entrada es S/ 10\n",
            "Por favor ingrese su edad, de lo contrario ingrese \"0\" para terminar: 12\n",
            "La entrada es S/ 10\n",
            "Por favor ingrese su edad, de lo contrario ingrese \"0\" para terminar: 13\n",
            "La entrada es S/15\n",
            "Por favor ingrese su edad, de lo contrario ingrese \"0\" para terminar: 0\n"
          ]
        }
      ]
    },
    {
      "cell_type": "code",
      "source": [
        "pizzas = ['Pizza Hawaiana', 'Pizza Americana', 'Pizza Mediterranea']\n",
        "\n",
        "for pizza in pizzas:\n",
        "  print(f'Me gusta la pizza {pizza.title()}')\n",
        "\n",
        "print(\"¡Me encanta la pizza!\")"
      ],
      "metadata": {
        "colab": {
          "base_uri": "https://localhost:8080/"
        },
        "id": "mF6F4quomKV-",
        "outputId": "a6ac20f3-aef9-4ebf-d134-403f60137013"
      },
      "execution_count": 24,
      "outputs": [
        {
          "output_type": "stream",
          "name": "stdout",
          "text": [
            "Me gusta la pizza Pizza Hawaiana\n",
            "Me gusta la pizza Pizza Americana\n",
            "Me gusta la pizza Pizza Mediterranea\n",
            "¡Me encanta la pizza!\n"
          ]
        }
      ]
    },
    {
      "cell_type": "code",
      "source": [
        "animales = ['gato', 'perro', 'cerdo']\n",
        "\n",
        "for animal in animales:\n",
        "  print(f'{animal.title()}')\n",
        ""
      ],
      "metadata": {
        "colab": {
          "base_uri": "https://localhost:8080/"
        },
        "id": "OYzAqig5pjLr",
        "outputId": "c95e124d-8d62-43c9-8809-311242a6ea82"
      },
      "execution_count": 30,
      "outputs": [
        {
          "output_type": "stream",
          "name": "stdout",
          "text": [
            "Gato\n",
            "Perro\n",
            "Cerdo\n"
          ]
        }
      ]
    },
    {
      "cell_type": "code",
      "source": [
        "lista_animales = ['perro', 'gato', 'cerdo']\n",
        "elección_animales = {\n",
        "    'perro':'Un perro sería un excelente guardián',\n",
        "    'gato':'El gato sería una excelente mascota por su independencia',\n",
        "    'cerdo':'El cerdo es una mascota muy alegre'\n",
        "}\n",
        "for animal in lista_animales:\n",
        "  elección = elección_animales[animal]\n",
        "  print(elección)\n",
        "\n",
        "print('¡Cualquiera sería una excelente mascota!')"
      ],
      "metadata": {
        "colab": {
          "base_uri": "https://localhost:8080/"
        },
        "id": "qj7KMb3wq9iJ",
        "outputId": "823b4d38-603e-43cd-dcf9-0a70685b2015"
      },
      "execution_count": 38,
      "outputs": [
        {
          "output_type": "stream",
          "name": "stdout",
          "text": [
            "Un perro sería un excelente guardián\n",
            "El gato sería una excelente mascota por su independencia\n",
            "El cerdo es una mascota muy alegre\n",
            "¡Cualquiera sería una excelente mascota!\n"
          ]
        }
      ]
    }
  ]
}