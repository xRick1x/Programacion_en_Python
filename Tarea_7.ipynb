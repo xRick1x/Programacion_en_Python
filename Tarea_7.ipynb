{
  "nbformat": 4,
  "nbformat_minor": 0,
  "metadata": {
    "colab": {
      "provenance": [],
      "authorship_tag": "ABX9TyOsJuVi5wczi1UW8sSQ2VqJ",
      "include_colab_link": true
    },
    "kernelspec": {
      "name": "python3",
      "display_name": "Python 3"
    },
    "language_info": {
      "name": "python"
    }
  },
  "cells": [
    {
      "cell_type": "markdown",
      "metadata": {
        "id": "view-in-github",
        "colab_type": "text"
      },
      "source": [
        "<a href=\"https://colab.research.google.com/github/xRick1x/Programacion_en_Python/blob/main/Tarea_7.ipynb\" target=\"_parent\"><img src=\"https://colab.research.google.com/assets/colab-badge.svg\" alt=\"Open In Colab\"/></a>"
      ]
    },
    {
      "cell_type": "code",
      "execution_count": 1,
      "metadata": {
        "id": "pEfe-ENjmZt5"
      },
      "outputs": [],
      "source": [
        "def almacenar_informacion(nombre, nota_programacion, nota_estadistica, nota_fisica, edad=None, universidad=None):\n",
        "\n",
        "    info_estudiante = {\n",
        "        'nombre': nombre,\n",
        "        'nota_programacion': nota_programacion,\n",
        "        'nota_estadistica': nota_estadistica,\n",
        "        'nota_fisica': nota_fisica}\n",
        "\n",
        "    if edad is not None:\n",
        "        info_estudiante['edad'] = edad\n",
        "\n",
        "    if universidad is not None:\n",
        "        info_estudiante['universidad'] = universidad\n",
        "\n",
        "    return info_estudiante"
      ]
    },
    {
      "cell_type": "code",
      "source": [
        "almacenar_informacion('Rick', 17, 12, 15, 28, 'PUCP')"
      ],
      "metadata": {
        "colab": {
          "base_uri": "https://localhost:8080/"
        },
        "id": "8L-VHeXxtGbm",
        "outputId": "e66c2276-8251-490c-be47-ad4d268d07c1"
      },
      "execution_count": 13,
      "outputs": [
        {
          "output_type": "execute_result",
          "data": {
            "text/plain": [
              "{'nombre': 'Rick',\n",
              " 'nota_programacion': 17,\n",
              " 'nota_estadistica': 12,\n",
              " 'nota_fisica': 15,\n",
              " 'edad': 28,\n",
              " 'universidad': 'PUCP'}"
            ]
          },
          "metadata": {},
          "execution_count": 13
        }
      ]
    },
    {
      "cell_type": "code",
      "source": [
        "almacenar_informacion('Diego', 20, 15, 18)"
      ],
      "metadata": {
        "colab": {
          "base_uri": "https://localhost:8080/"
        },
        "id": "Ei71pUc2tbrR",
        "outputId": "bc2ab507-0981-444b-da6d-bb5e07b91228"
      },
      "execution_count": 14,
      "outputs": [
        {
          "output_type": "execute_result",
          "data": {
            "text/plain": [
              "{'nombre': 'Diego',\n",
              " 'nota_programacion': 20,\n",
              " 'nota_estadistica': 15,\n",
              " 'nota_fisica': 18}"
            ]
          },
          "metadata": {},
          "execution_count": 14
        }
      ]
    }
  ]
}