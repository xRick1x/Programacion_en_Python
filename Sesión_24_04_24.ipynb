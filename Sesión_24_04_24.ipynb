{
  "nbformat": 4,
  "nbformat_minor": 0,
  "metadata": {
    "colab": {
      "provenance": [],
      "authorship_tag": "ABX9TyMlAdstqX8WaNVtilVIuzmk",
      "include_colab_link": true
    },
    "kernelspec": {
      "name": "python3",
      "display_name": "Python 3"
    },
    "language_info": {
      "name": "python"
    }
  },
  "cells": [
    {
      "cell_type": "markdown",
      "metadata": {
        "id": "view-in-github",
        "colab_type": "text"
      },
      "source": [
        "<a href=\"https://colab.research.google.com/github/xRick1x/Programacion_en_Python/blob/main/Sesi%C3%B3n_24_04_24.ipynb\" target=\"_parent\"><img src=\"https://colab.research.google.com/assets/colab-badge.svg\" alt=\"Open In Colab\"/></a>"
      ]
    },
    {
      "cell_type": "code",
      "execution_count": null,
      "metadata": {
        "id": "fDQFY_Tr6edt"
      },
      "outputs": [],
      "source": [
        "# Ejemplo de sentencia and\n",
        "\n",
        "# Para pasar de Año un estudiante debe aprobar al menos el curso de matemáticas o el curso de lenguaje y además en cualquiera de los casos haber asistido más del 80% de clases.\n",
        "# Una nota aprobada es aquella superior a 14. Desarrolle un programa en el cual se reciba como input la nota\n",
        "# del estudiante en ambos cursos además del % de asistencia. La respuesta del programa debe ser si se aprobo o no el año académico."
      ]
    },
    {
      "cell_type": "code",
      "source": [
        "nota_math = int(input('Ingrese la nota de matemáticas: '))\n",
        "nota_leng = int(inpur('Ingrese la nota de lenguaje: '))\n",
        "asistencia = float(input('Ingrese el porcentaje de asistencia: '))\n",
        "\n",
        "if ((nota_math > 14) | (nota_leng > 14)) and (asistencia > 80):\n",
        "  print('Se aprobó uno de los cursos')\n",
        "  print('Aprobó el año académico. ¡Felicidades!')\n",
        "\n",
        "else:\n",
        "  print('Desaprobo los dos cursos.')\n",
        "  print('Desaprobo el año académico')\n",
        ""
      ],
      "metadata": {
        "id": "vPlE8__n6kgH"
      },
      "execution_count": null,
      "outputs": []
    },
    {
      "cell_type": "code",
      "source": [
        "try:\n",
        "  edad = int(input('ingresa tu edad: '))\n",
        "  print('¡Gracias por ingresar tu edad!')\n",
        "except:\n",
        "  print('Tu edad no esta correctamente ingresada, por favor intenta nuevamente')"
      ],
      "metadata": {
        "colab": {
          "base_uri": "https://localhost:8080/"
        },
        "id": "1SkW646LFNSq",
        "outputId": "d7712320-c0d3-4b8b-eb51-0de2beb616cc"
      },
      "execution_count": 3,
      "outputs": [
        {
          "output_type": "stream",
          "name": "stdout",
          "text": [
            "ingresa tu edad: 20\n",
            "¡Gracias por ingresar tu edad!\n"
          ]
        }
      ]
    },
    {
      "cell_type": "code",
      "source": [
        "nota = 20\n",
        "if nota > 18:\n",
        "  print('Eres un alumno destacado del curso de programación')\n",
        "elif nota >= 14:\n",
        "  print('Aprobaste el curso de programación')\n",
        "else:\n",
        "  print('Desaprobaste el curso')"
      ],
      "metadata": {
        "colab": {
          "base_uri": "https://localhost:8080/"
        },
        "id": "4mRUdkhgH2-5",
        "outputId": "60c016ba-6df6-43ce-aa5e-5a5f490513da"
      },
      "execution_count": 13,
      "outputs": [
        {
          "output_type": "stream",
          "name": "stdout",
          "text": [
            "Eres un alumno destacado del curso de programación\n"
          ]
        }
      ]
    },
    {
      "cell_type": "code",
      "source": [
        "alien_color = input('Ingrese el color del alien (verde/amarillo/rojo)')\n",
        "if alien_color == 'verde':\n",
        "  print('¡El juegador ha ganado 5 puntos!')"
      ],
      "metadata": {
        "colab": {
          "base_uri": "https://localhost:8080/"
        },
        "id": "_cCfz8suItMF",
        "outputId": "98c68f08-b0e3-4be0-a353-5540adb7b642"
      },
      "execution_count": 14,
      "outputs": [
        {
          "name": "stdout",
          "output_type": "stream",
          "text": [
            "Ingrese el color del alien (verde/amarillo/rojo)rojo\n"
          ]
        }
      ]
    }
  ]
}