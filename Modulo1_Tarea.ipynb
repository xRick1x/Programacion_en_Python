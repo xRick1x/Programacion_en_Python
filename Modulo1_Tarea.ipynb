{
  "nbformat": 4,
  "nbformat_minor": 0,
  "metadata": {
    "colab": {
      "provenance": [],
      "authorship_tag": "ABX9TyOOi6ycb8xuzn196loUlE1i",
      "include_colab_link": true
    },
    "kernelspec": {
      "name": "python3",
      "display_name": "Python 3"
    },
    "language_info": {
      "name": "python"
    }
  },
  "cells": [
    {
      "cell_type": "markdown",
      "metadata": {
        "id": "view-in-github",
        "colab_type": "text"
      },
      "source": [
        "<a href=\"https://colab.research.google.com/github/xRick1x/Programacion_en_Python/blob/main/Modulo1_Tarea.ipynb\" target=\"_parent\"><img src=\"https://colab.research.google.com/assets/colab-badge.svg\" alt=\"Open In Colab\"/></a>"
      ]
    },
    {
      "cell_type": "markdown",
      "source": [
        "####Algoritmo\n",
        "####Obtener dos números\n",
        "####Sumar los dos números\n",
        "####Muestro el resultado"
      ],
      "metadata": {
        "id": "QfSZQ4qGjVLS"
      }
    },
    {
      "cell_type": "code",
      "source": [
        "\"\"\"\n",
        "Inicio\n",
        ".... Leer primer número\n",
        ".... Leer segunddo número\n",
        ".... Resultado = primer número + segundo número\n",
        ".... Esribir resultado\n",
        "Fin\n",
        "\"\"\""
      ],
      "metadata": {
        "id": "3NPHzgdSsNo6"
      },
      "execution_count": null,
      "outputs": []
    },
    {
      "cell_type": "code",
      "source": [
        "#Asignar un valor a un objeto\n",
        "a = 20\n",
        "b = 30"
      ],
      "metadata": {
        "id": "AFGioz3ssv3r"
      },
      "execution_count": null,
      "outputs": []
    },
    {
      "cell_type": "code",
      "source": [
        "a + b"
      ],
      "metadata": {
        "colab": {
          "base_uri": "https://localhost:8080/"
        },
        "id": "IV9OrpE8tf79",
        "outputId": "d09f61ad-8e05-4285-bc53-28a3c0995c36"
      },
      "execution_count": null,
      "outputs": [
        {
          "output_type": "execute_result",
          "data": {
            "text/plain": [
              "50"
            ]
          },
          "metadata": {},
          "execution_count": 6
        }
      ]
    },
    {
      "cell_type": "code",
      "source": [
        "a = input('Ingrese el primer número: ')"
      ],
      "metadata": {
        "colab": {
          "base_uri": "https://localhost:8080/"
        },
        "id": "RJeoYZWjuOQa",
        "outputId": "8b59ffa7-14a1-4a6a-f470-53b4f0092011"
      },
      "execution_count": null,
      "outputs": [
        {
          "name": "stdout",
          "output_type": "stream",
          "text": [
            "Ingrese el primer número: 1\n"
          ]
        }
      ]
    },
    {
      "cell_type": "code",
      "source": [
        "a"
      ],
      "metadata": {
        "colab": {
          "base_uri": "https://localhost:8080/",
          "height": 35
        },
        "id": "-eAhbUmsuq7B",
        "outputId": "e1f40f00-1851-44c9-8372-9e07c44938cc"
      },
      "execution_count": null,
      "outputs": [
        {
          "output_type": "execute_result",
          "data": {
            "text/plain": [
              "'1'"
            ],
            "application/vnd.google.colaboratory.intrinsic+json": {
              "type": "string"
            }
          },
          "metadata": {},
          "execution_count": 9
        }
      ]
    },
    {
      "cell_type": "code",
      "source": [
        "b = input('Ingrese el segundo número: ')"
      ],
      "metadata": {
        "colab": {
          "base_uri": "https://localhost:8080/"
        },
        "id": "scZuRUy4uvs9",
        "outputId": "46eaf6b7-a79c-4236-abb8-9c21800cd58d"
      },
      "execution_count": null,
      "outputs": [
        {
          "name": "stdout",
          "output_type": "stream",
          "text": [
            "Ingrese el segundo número: 10\n"
          ]
        }
      ]
    },
    {
      "cell_type": "code",
      "source": [
        "Resultado = a+b"
      ],
      "metadata": {
        "id": "2zWsjuX-u8Co"
      },
      "execution_count": null,
      "outputs": []
    },
    {
      "cell_type": "code",
      "source": [
        "Resultado"
      ],
      "metadata": {
        "colab": {
          "base_uri": "https://localhost:8080/",
          "height": 35
        },
        "id": "n3Uc3BVwvIjM",
        "outputId": "d76f5957-0967-4171-a6a0-3a63a4282a11"
      },
      "execution_count": null,
      "outputs": [
        {
          "output_type": "execute_result",
          "data": {
            "text/plain": [
              "'110'"
            ],
            "application/vnd.google.colaboratory.intrinsic+json": {
              "type": "string"
            }
          },
          "metadata": {},
          "execution_count": 15
        }
      ]
    },
    {
      "cell_type": "code",
      "source": [
        "#Tengo que realizar un cast o casteo (cambiar de letra a número, entero)\n",
        "a = input('Ingrese el primer número: ')\n",
        "c = int(a)\n",
        "b = input('Ingrese el segundo número: ')\n",
        "d = int(b)\n",
        "c+d"
      ],
      "metadata": {
        "colab": {
          "base_uri": "https://localhost:8080/"
        },
        "id": "_KQEazBfv_dH",
        "outputId": "4627f476-3b54-47f9-a488-0be076d70d6d"
      },
      "execution_count": null,
      "outputs": [
        {
          "name": "stdout",
          "output_type": "stream",
          "text": [
            "Ingrese el primer número: 1\n",
            "Ingrese el segundo número: 2\n"
          ]
        },
        {
          "output_type": "execute_result",
          "data": {
            "text/plain": [
              "3"
            ]
          },
          "metadata": {},
          "execution_count": 19
        }
      ]
    },
    {
      "cell_type": "code",
      "source": [
        "#Tengo que realizar un cast o casteo (cambiar de letra a número, entero) - Método eficiente\n",
        "a = int(input('Ingrese el primer número: '))\n",
        "b = int(input('Ingrese el segundo número: '))\n",
        "resultado = a + b\n",
        "print('El resultado es: ',resultado)"
      ],
      "metadata": {
        "colab": {
          "base_uri": "https://localhost:8080/"
        },
        "id": "iJUUz0S3xsSg",
        "outputId": "41982842-8642-423b-e53f-9a7662ee0cbc"
      },
      "execution_count": null,
      "outputs": [
        {
          "output_type": "stream",
          "name": "stdout",
          "text": [
            "Ingrese el primer número: 10\n",
            "Ingrese el segundo número: 20\n",
            "El resultado es:  30\n"
          ]
        }
      ]
    },
    {
      "cell_type": "code",
      "source": [
        "\"\"\"\n",
        "Inicio\n",
        "Recibir la temperatura en grados celsius\n",
        "Aplicar la fórmula de conversión\n",
        "Imprimir el resultado\n",
        "Fin\n",
        "\"\"\""
      ],
      "metadata": {
        "id": "ZySmaJ93ywaS"
      },
      "execution_count": null,
      "outputs": []
    },
    {
      "cell_type": "code",
      "source": [
        "a = int(input('Ingrese la temperatura en C°: '))\n",
        "resultado = a * 9 / 5 + 32\n",
        "print('La temperatura en Fahrenheit es: ', resultado)"
      ],
      "metadata": {
        "colab": {
          "base_uri": "https://localhost:8080/"
        },
        "id": "XIN85SqizasW",
        "outputId": "e74ef5c4-f9d8-46af-d1f1-d61d266d50aa"
      },
      "execution_count": null,
      "outputs": [
        {
          "output_type": "stream",
          "name": "stdout",
          "text": [
            "Ingrese la temperatura en C°: 30\n",
            "La temperatura en Fahrenheit es:  86.0\n"
          ]
        }
      ]
    },
    {
      "cell_type": "code",
      "source": [
        "\"\"\"\n",
        "Inicio\n",
        "Solicitar el largo del rectángulo\n",
        "Solicitar el ancho del rectángulo\n",
        "Realizar el cálculo\n",
        "Mostrar el resultado\n",
        "Fin\n",
        "\"\"\""
      ],
      "metadata": {
        "id": "X2z_BDx2hb29"
      },
      "execution_count": null,
      "outputs": []
    },
    {
      "cell_type": "code",
      "source": [
        "c = int(input('Por favor registre el largo del rectángulo: '))\n",
        "d = int(input('Por favor registre el ancho del rectángulo: '))\n",
        "r = c * d\n",
        "print('El área del rectángulo es: ',r)"
      ],
      "metadata": {
        "colab": {
          "base_uri": "https://localhost:8080/"
        },
        "id": "wTyTo-izh1ij",
        "outputId": "ba501f92-1822-4bb0-e5f7-7104519a66a4"
      },
      "execution_count": null,
      "outputs": [
        {
          "output_type": "stream",
          "name": "stdout",
          "text": [
            "Por favor registre el largo del rectángulo: 3\n",
            "Por favor registre el ancho del rectángulo: 4\n",
            "El área del rectángulo es:  12\n"
          ]
        }
      ]
    },
    {
      "cell_type": "code",
      "source": [
        "\"\"\"\n",
        "Inicio\n",
        "Obtener el primer dato que se desea multiplicar\n",
        "Obtener el segundo dato que se desea multiplicar\n",
        "Realizar la operación\n",
        "Mostrar el resultado\n",
        "Fin\n",
        "\"\"\""
      ],
      "metadata": {
        "id": "JFodohxLiUXT"
      },
      "execution_count": null,
      "outputs": []
    },
    {
      "cell_type": "code",
      "source": [
        "e = int(input('Por favor ingrese el primer dato a multiplicar: '))\n",
        "f = int(input('Por favor ingrese el segundo dato a multiplicar: '))\n",
        "r = e * f\n",
        "print('El resultado de la multiplicación es: ',r)"
      ],
      "metadata": {
        "colab": {
          "base_uri": "https://localhost:8080/"
        },
        "id": "aKoaDc_yimkF",
        "outputId": "a0bd883c-4c9e-4023-d8d8-025e2a8eb2cc"
      },
      "execution_count": null,
      "outputs": [
        {
          "output_type": "stream",
          "name": "stdout",
          "text": [
            "Por favor ingrese el primer dato a multiplicar: 3\n",
            "Por favor ingrese el segundo dato a multiplicar: 5\n",
            "El resultado de la multiplicación es:  15\n"
          ]
        }
      ]
    },
    {
      "cell_type": "code",
      "source": [
        "\"\"\"\n",
        "Inicio\n",
        "Solicitar la medida de un lado del cuadrado\n",
        "Realizar la fórmula matemática\n",
        "Mostrar el resultado\n",
        "Fin\n",
        "\"\"\""
      ],
      "metadata": {
        "id": "-Z6rm5vfjD0Z"
      },
      "execution_count": null,
      "outputs": []
    },
    {
      "cell_type": "code",
      "source": [
        "a = int(input('Por favor ingrese la medida de un lado del cuadrado: '))\n",
        "r = a * 4\n",
        "print('El resultado del perímetro del cuadrado es: ',r)"
      ],
      "metadata": {
        "colab": {
          "base_uri": "https://localhost:8080/"
        },
        "id": "re1Pi9ZMjPSg",
        "outputId": "21233f2c-1b36-4de5-bfc5-2f8e0a08c91c"
      },
      "execution_count": null,
      "outputs": [
        {
          "output_type": "stream",
          "name": "stdout",
          "text": [
            "Por favor ingrese la medida de un lado del cuadrado: 10\n",
            "El resultado del perímetro del cuadrado es:  40\n"
          ]
        }
      ]
    },
    {
      "cell_type": "code",
      "source": [
        "\"\"\"\n",
        "Inicio\n",
        "Obtener el primer número a dividir\n",
        "Obtener el segundo número a dividir\n",
        "En caso el segundo número sea igual a 0, indicar que el problema no tiene solución\n",
        "En caso el segundo número sea diferente de 0, operar la división\n",
        "Mostrar el resultado\n",
        "Fin\n",
        "\"\"\"\n"
      ],
      "metadata": {
        "id": "7aT4c1gKjpvC"
      },
      "execution_count": null,
      "outputs": []
    },
    {
      "cell_type": "code",
      "source": [
        "a = int(input('Por favor ingresar númerador: '))\n",
        "b = int(input('Por favor ingresar denominador: '))\n",
        "\n",
        "if b == 0:\n",
        "  print('El problema no tiene solución')\n",
        "else:\n",
        "  r = a / b\n",
        "  print ('El resultado de la división es: ',r)"
      ],
      "metadata": {
        "colab": {
          "base_uri": "https://localhost:8080/"
        },
        "id": "ki4yg3BZk4Ku",
        "outputId": "41446c11-aaf0-4d4b-d655-1210836f6d5e"
      },
      "execution_count": null,
      "outputs": [
        {
          "output_type": "stream",
          "name": "stdout",
          "text": [
            "Por favor ingresar númerador: 12\n",
            "Por favor ingresar denominador: 0\n",
            "El problema no tiene solución\n"
          ]
        }
      ]
    },
    {
      "cell_type": "code",
      "source": [
        "\"\"\"\n",
        "Inicio\n",
        "Obtener la primera cadena de texto del usuario\n",
        "Obtener la segunda cadena de texto del usuario\n",
        "Realizar el proceso de concatenación\n",
        "Mostrar el resultado al usuario\n",
        "\"\"\""
      ],
      "metadata": {
        "id": "Za8txLbkhf3j"
      },
      "execution_count": null,
      "outputs": []
    },
    {
      "cell_type": "code",
      "source": [
        "a = input(\"Por favor ingrese el primer texto o palabra a concaternar: \")\n",
        "b = input(\"Por favor ingrese el segundo texto o palabra a concaternar: \")\n",
        "frase_completa = \"{}{}{}\".format(a,\" \",b)\n",
        "print(frase_completa)"
      ],
      "metadata": {
        "id": "yn3i9BXdiEIn",
        "outputId": "9c4f2f6c-8a27-408c-907d-716f49be8b86",
        "colab": {
          "base_uri": "https://localhost:8080/"
        }
      },
      "execution_count": 8,
      "outputs": [
        {
          "output_type": "stream",
          "name": "stdout",
          "text": [
            "Por favor ingrese el primer texto o palabra a concaternar: Hola\n",
            "Por favor ingrese el segundo texto o palabra a concaternar: Richard\n",
            "Hola Richard\n"
          ]
        }
      ]
    },
    {
      "cell_type": "code",
      "source": [
        "import random\n",
        "import string\n",
        "\n",
        "def generar_contrasena(longitud):\n",
        "    # Definir los caracteres posibles para la contraseña\n",
        "    caracteres = string.ascii_letters + string.digits + string.punctuation\n",
        "\n",
        "    # Crear la contraseña utilizando una elección aleatoria de caracteres\n",
        "    contrasena = ''.join(random.choice(caracteres) for i in range(longitud))\n",
        "\n",
        "    return contrasena\n",
        "\n",
        "# Suponer que el usuario quiere una contraseña de 12 caracteres\n",
        "longitud_deseada = 12\n",
        "contrasena = generar_contrasena(longitud_deseada)\n",
        "print(f\"La contraseña generada es: {contrasena}\")\n"
      ],
      "metadata": {
        "id": "vlnCRfeNjLCh",
        "outputId": "b789e9fb-cad0-4f93-9e40-a83068b157b4",
        "colab": {
          "base_uri": "https://localhost:8080/"
        }
      },
      "execution_count": 9,
      "outputs": [
        {
          "output_type": "stream",
          "name": "stdout",
          "text": [
            "La contraseña generada es: uukMhwlmYWS3\n"
          ]
        }
      ]
    },
    {
      "cell_type": "code",
      "source": [
        "import random\n",
        "import string\n",
        "\n",
        "def generar_contrasena(longitud):\n",
        "    # Definir los caracteres posibles para la contraseña\n",
        "    caracteres = string.ascii_letters + string.digits + string.punctuation\n",
        "\n",
        "    # Crear la contraseña utilizando una elección aleatoria de caracteres\n",
        "    contrasena = ''.join(random.choice(caracteres) for i in range(longitud))\n",
        "\n",
        "    return contrasena\n",
        "\n",
        "#Definir el numero de caracteres\n",
        "longitud_contraseña = int(input('Por favor indicar el número de caracteres para su contraseña'))\n",
        "contrasena = generar_contrasena(longitud_contraseña)\n",
        "print(f\"La contraseña es: {contrasena}\")"
      ],
      "metadata": {
        "id": "xr3RqdaDldE5",
        "outputId": "31ce86b7-5ddc-49fa-c0d3-6aa4dfa80411",
        "colab": {
          "base_uri": "https://localhost:8080/"
        }
      },
      "execution_count": 10,
      "outputs": [
        {
          "output_type": "stream",
          "name": "stdout",
          "text": [
            "Por favor indicar el número de caracteres para su contraseña12\n",
            "La contraseña es: JT8w(;uZ173!\n"
          ]
        }
      ]
    },
    {
      "cell_type": "code",
      "source": [
        "import string\n",
        "import random\n",
        "\n",
        "# Cadena con todas las letras mayúsculas y minúsculas\n",
        "a = string.ascii_letters\n",
        "\n",
        "# Obtener un elemento aleatorio de la cadena\n",
        "elemento_random = random.choice(a)\n",
        "print(elemento_random)\n"
      ],
      "metadata": {
        "id": "RZ3pVl3_nRt7",
        "outputId": "ba036d93-e207-4617-877d-67b8acdfeed7",
        "colab": {
          "base_uri": "https://localhost:8080/"
        }
      },
      "execution_count": 12,
      "outputs": [
        {
          "output_type": "stream",
          "name": "stdout",
          "text": [
            "j\n"
          ]
        }
      ]
    },
    {
      "cell_type": "code",
      "source": [
        "#Inicio\n",
        "#Preguntar por el tipo de mascota\n",
        "#Calcular la edad de la mascota en años\n",
        "#Mostrar resultados\n",
        "#Fin"
      ],
      "metadata": {
        "id": "52omIKI9ux9y"
      },
      "execution_count": null,
      "outputs": []
    },
    {
      "cell_type": "code",
      "source": [
        "mascota = input('Ingrese su tipo de mascota (Perro o Gato): ')\n",
        "edad = int(input('Ingresa la edad de tu mascota: '))\n",
        "if mascota == 'Perro':\n",
        "  edad_mascota = edad*7\n",
        "  print(f'Tu mascota tiene {edad_mascota} años')\n",
        "if mascota == \"Gato\":\n",
        "  edad_mascota = edad*6\n",
        "  print(f'Tu mascota tiene {edad_mascota} años')\n",
        "else:\n",
        "  edad_mascota = 'Solo elegir Perro o Gato'\n",
        "  print(edad_mascota)"
      ],
      "metadata": {
        "id": "_L3IOIgivHfG",
        "outputId": "d05183bf-2209-4344-f826-cd8a00a2108f",
        "colab": {
          "base_uri": "https://localhost:8080/"
        }
      },
      "execution_count": 20,
      "outputs": [
        {
          "output_type": "stream",
          "name": "stdout",
          "text": [
            "Ingrese su tipo de mascota (Perro o Gato): Gato\n",
            "Ingresa la edad de tu mascota: 3\n",
            "Tu mascota tiene 18 años\n"
          ]
        }
      ]
    }
  ]
}