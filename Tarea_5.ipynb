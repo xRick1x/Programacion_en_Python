{
  "nbformat": 4,
  "nbformat_minor": 0,
  "metadata": {
    "colab": {
      "provenance": [],
      "authorship_tag": "ABX9TyNgHJE06q5piPttMRlw5mZZ",
      "include_colab_link": true
    },
    "kernelspec": {
      "name": "python3",
      "display_name": "Python 3"
    },
    "language_info": {
      "name": "python"
    }
  },
  "cells": [
    {
      "cell_type": "markdown",
      "metadata": {
        "id": "view-in-github",
        "colab_type": "text"
      },
      "source": [
        "<a href=\"https://colab.research.google.com/github/xRick1x/Programacion_en_Python/blob/main/Tarea_5.ipynb\" target=\"_parent\"><img src=\"https://colab.research.google.com/assets/colab-badge.svg\" alt=\"Open In Colab\"/></a>"
      ]
    },
    {
      "cell_type": "code",
      "execution_count": null,
      "metadata": {
        "colab": {
          "base_uri": "https://localhost:8080/"
        },
        "id": "NG5CbSKCdYu3",
        "outputId": "c6c128ab-9269-4014-80f2-4d17bf05d395"
      },
      "outputs": [
        {
          "output_type": "stream",
          "name": "stdout",
          "text": [
            "Por favor ingrese todos los ingredientes que desea para su pizza, cuando termine por favor escriba salir: tomate\n",
            "Por favor ingrese todos los ingredientes que desea para su pizza, cuando termine por favor escriba salir: lechuga\n",
            "Por favor ingrese todos los ingredientes que desea para su pizza, cuando termine por favor escriba salir: peperoni\n",
            "Por favor ingrese todos los ingredientes que desea para su pizza, cuando termine por favor escriba salir: salir\n",
            "Los ingredientes de tu pizza son: ['tomate', 'lechuga', 'peperoni']\n"
          ]
        }
      ],
      "source": [
        "datos = []\n",
        "\n",
        "while True:\n",
        "  ingredientes = input('Por favor ingrese todos los ingredientes que desea para su pizza, cuando termine por favor escriba salir: ')\n",
        "  if ingredientes == 'salir':\n",
        "    break\n",
        "  datos.append(ingredientes)\n",
        "\n",
        "print(f'Los ingredientes de tu pizza son: {datos}')\n",
        "\n"
      ]
    },
    {
      "cell_type": "code",
      "source": [
        "while True:\n",
        "  dato = int(input('Por favor ingrese su edad, de lo contrario ingrese \"0\" para terminar: '))\n",
        "  try:\n",
        "    edad = int(dato)\n",
        "    if edad == 0:\n",
        "      break\n",
        "    elif edad < 3:\n",
        "      print(\"La entrada es gratuita\")\n",
        "    elif edad <= 12:\n",
        "      print(\"La entrada es S/ 10\")\n",
        "    else:\n",
        "      print(\"La entrada es S/15\")\n",
        "  except ValueError:\n",
        "    print('Por favor ingrese su edad, de lo contrario ingrese \"0\" para terminar: ')\n"
      ],
      "metadata": {
        "colab": {
          "base_uri": "https://localhost:8080/"
        },
        "id": "pWfjifmRtn1o",
        "outputId": "0b3c1960-b17d-4263-a2ca-61a8620167fa"
      },
      "execution_count": null,
      "outputs": [
        {
          "name": "stdout",
          "output_type": "stream",
          "text": [
            "Por favor ingrese su edad, de lo contrario ingrese \"0\" para terminar: 50\n",
            "La entrada es S/15\n",
            "Por favor ingrese su edad, de lo contrario ingrese \"0\" para terminar: 10\n",
            "La entrada es S/ 10\n",
            "Por favor ingrese su edad, de lo contrario ingrese \"0\" para terminar: 2\n",
            "La entrada es gratuita\n",
            "Por favor ingrese su edad, de lo contrario ingrese \"0\" para terminar: 3\n",
            "La entrada es S/ 10\n",
            "Por favor ingrese su edad, de lo contrario ingrese \"0\" para terminar: 12\n",
            "La entrada es S/ 10\n",
            "Por favor ingrese su edad, de lo contrario ingrese \"0\" para terminar: 13\n",
            "La entrada es S/15\n",
            "Por favor ingrese su edad, de lo contrario ingrese \"0\" para terminar: 0\n"
          ]
        }
      ]
    }
  ]
}