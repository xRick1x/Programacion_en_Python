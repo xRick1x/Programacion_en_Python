{
  "nbformat": 4,
  "nbformat_minor": 0,
  "metadata": {
    "colab": {
      "provenance": [],
      "authorship_tag": "ABX9TyOsQlTh/N+tp+6XgahdRwk9",
      "include_colab_link": true
    },
    "kernelspec": {
      "name": "python3",
      "display_name": "Python 3"
    },
    "language_info": {
      "name": "python"
    }
  },
  "cells": [
    {
      "cell_type": "markdown",
      "metadata": {
        "id": "view-in-github",
        "colab_type": "text"
      },
      "source": [
        "<a href=\"https://colab.research.google.com/github/xRick1x/Programacion_en_Python/blob/main/tarea_3.ipynb\" target=\"_parent\"><img src=\"https://colab.research.google.com/assets/colab-badge.svg\" alt=\"Open In Colab\"/></a>"
      ]
    },
    {
      "cell_type": "code",
      "source": [
        "\"\"\"\n",
        "Ejercicio 1\n",
        "He incorporado que el color se elija de manera aleatoria para que sea más dinamico el juego\n",
        "\"\"\""
      ],
      "metadata": {
        "id": "uP4kXLAlh8eL"
      },
      "execution_count": null,
      "outputs": []
    },
    {
      "cell_type": "code",
      "execution_count": null,
      "metadata": {
        "colab": {
          "base_uri": "https://localhost:8080/"
        },
        "id": "vHo0rzwDgi6Y",
        "outputId": "5686af84-f753-4c56-ec43-bf11d7882ae5"
      },
      "outputs": [
        {
          "output_type": "stream",
          "name": "stdout",
          "text": [
            "¡Acabas de ganar 5 puntos!\n"
          ]
        }
      ],
      "source": [
        "import random\n",
        "\n",
        "colores_posibles = ['verde', 'amarillo', 'rojo']\n",
        "alien_color = random.choice(colores_posibles)\n",
        "\n",
        "if alien_color == 'verde':\n",
        "    print(\"¡Acabas de ganar 5 puntos!\")\n",
        "else:\n",
        "    print(\"Intentalo otra vez\")\n"
      ]
    },
    {
      "cell_type": "code",
      "source": [
        "\"\"\"\n",
        "Ejercicio 2\n",
        "\"\"\""
      ],
      "metadata": {
        "id": "tKCGW0wciPt7"
      },
      "execution_count": null,
      "outputs": []
    },
    {
      "cell_type": "code",
      "source": [
        "import random\n",
        "\n",
        "colores_posibles = ['verde', 'amarillo', 'rojo']\n",
        "alien_color = random.choice(colores_posibles)\n",
        "\n",
        "if alien_color == 'verde':\n",
        "    print(\"El jugador obtuvo 5 puntos.\")\n",
        "elif alien_color == 'amarillo':\n",
        "    print(\"El jugador obtuvo 10 puntos.\")\n",
        "elif alien_color == 'rojo':\n",
        "    print(\"El jugador obtuvo 15 puntos.\")\n"
      ],
      "metadata": {
        "colab": {
          "base_uri": "https://localhost:8080/"
        },
        "id": "GJsiAgNgiSq-",
        "outputId": "00c918ce-e5ef-4bb7-fb3e-4585b497eb90"
      },
      "execution_count": null,
      "outputs": [
        {
          "output_type": "stream",
          "name": "stdout",
          "text": [
            "El jugador obtuvo 10 puntos.\n"
          ]
        }
      ]
    },
    {
      "cell_type": "code",
      "source": [
        "\"\"\"\n",
        "Ejercicio 3\n",
        "\"\"\""
      ],
      "metadata": {
        "id": "Gc0aA_f-ijBq"
      },
      "execution_count": null,
      "outputs": []
    },
    {
      "cell_type": "code",
      "source": [
        "# Edad al usuario\n",
        "edad = int(input(\"Por favor, introduce tu edad: \"))\n",
        "\n",
        "# Lista vacía para los candidatos\n",
        "candidatos = []\n",
        "\n",
        "# Evalúa la edad y actúa en consecuencia\n",
        "if edad >= 18 and edad <= 65:\n",
        "    print(\"Puedes votar.\")\n",
        "    candidato = input(\"¿Por quién te gustaría votar? \")\n",
        "    candidatos.append(candidato)\n",
        "elif edad > 65:\n",
        "    print(\"Superas el umbral de edad para votar.\")\n",
        "else:\n",
        "    print(\"Aún no cumples la mayoría de edad.\")\n",
        "\n",
        "# Imprime la lista de candidatos al final\n",
        "print(\"Lista de candidatos seleccionados:\", candidatos)"
      ],
      "metadata": {
        "colab": {
          "base_uri": "https://localhost:8080/"
        },
        "id": "WCRq7ZOlkBfv",
        "outputId": "3d8dd3b7-609e-4b41-b6cc-b858df2850d1"
      },
      "execution_count": null,
      "outputs": [
        {
          "output_type": "stream",
          "name": "stdout",
          "text": [
            "Por favor, introduce tu edad: 20\n",
            "Puedes votar.\n",
            "¿Por quién te gustaría votar? Jhon\n",
            "Lista de candidatos seleccionados: ['Jhon']\n"
          ]
        }
      ]
    }
  ]
}