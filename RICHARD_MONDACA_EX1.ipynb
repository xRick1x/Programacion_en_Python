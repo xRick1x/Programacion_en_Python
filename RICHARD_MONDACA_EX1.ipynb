{
  "nbformat": 4,
  "nbformat_minor": 0,
  "metadata": {
    "colab": {
      "provenance": [],
      "authorship_tag": "ABX9TyOKDh10RxdQBz5ATQGiqh67",
      "include_colab_link": true
    },
    "kernelspec": {
      "name": "python3",
      "display_name": "Python 3"
    },
    "language_info": {
      "name": "python"
    }
  },
  "cells": [
    {
      "cell_type": "markdown",
      "metadata": {
        "id": "view-in-github",
        "colab_type": "text"
      },
      "source": [
        "<a href=\"https://colab.research.google.com/github/xRick1x/Programacion_en_Python/blob/main/RICHARD_MONDACA_EX1.ipynb\" target=\"_parent\"><img src=\"https://colab.research.google.com/assets/colab-badge.svg\" alt=\"Open In Colab\"/></a>"
      ]
    },
    {
      "cell_type": "code",
      "execution_count": 4,
      "metadata": {
        "id": "NGaKb80DBhIs"
      },
      "outputs": [],
      "source": [
        "Ventas_semanales = [25000, 28000, 31000, 27500, 33000, 29000, 35000, 32000, 30000, 28500, 26000, 33500]"
      ]
    },
    {
      "cell_type": "code",
      "source": [
        "# 1.1 Identifica la semana con el mejor resultado de venta.\n",
        "Mejor_resultado = max(Ventas_semanales)\n",
        "Mejor_resultado\n",
        "semana_mejor_resultado = Ventas_semanales.index(Mejor_resultado) + 1\n",
        "semana_mejor_resultado"
      ],
      "metadata": {
        "colab": {
          "base_uri": "https://localhost:8080/"
        },
        "id": "r0GuF9lWChfn",
        "outputId": "f226d916-2410-4a86-9998-f26866da04c6"
      },
      "execution_count": 14,
      "outputs": [
        {
          "output_type": "execute_result",
          "data": {
            "text/plain": [
              "7"
            ]
          },
          "metadata": {},
          "execution_count": 14
        }
      ]
    },
    {
      "cell_type": "code",
      "source": [
        "# 1.2 Identifica la semana con el peor resultado de venta.\n",
        "Peor_resultado = min(Ventas_semanales)\n",
        "Peor_resultado\n",
        "semana_peor_resultado = Ventas_semanales.index(Peor_resultado) + 1\n",
        "semana_peor_resultado"
      ],
      "metadata": {
        "colab": {
          "base_uri": "https://localhost:8080/"
        },
        "id": "LKKqz1E6DMmG",
        "outputId": "b40817f4-6374-4cf4-ecca-331b4288603c"
      },
      "execution_count": 15,
      "outputs": [
        {
          "output_type": "execute_result",
          "data": {
            "text/plain": [
              "1"
            ]
          },
          "metadata": {},
          "execution_count": 15
        }
      ]
    },
    {
      "cell_type": "code",
      "source": [
        "# 1.3 Calcula la venta promedio de la tienda.\n",
        "Total_Ventas = sum(Ventas_semanales)\n",
        "Cantidad_semanas = len(Ventas_semanales)\n",
        "Promedio = Total_Ventas/Cantidad_semanas\n",
        "Promedio"
      ],
      "metadata": {
        "colab": {
          "base_uri": "https://localhost:8080/"
        },
        "id": "5aYiU0LOCnq_",
        "outputId": "e34b6e4c-3486-42a7-fdd1-b12342295560"
      },
      "execution_count": 9,
      "outputs": [
        {
          "output_type": "execute_result",
          "data": {
            "text/plain": [
              "29875.0"
            ]
          },
          "metadata": {},
          "execution_count": 9
        }
      ]
    },
    {
      "cell_type": "code",
      "source": [
        "# 1.4 Calcula alguna medida de dispersión de las ventas\n",
        "suma_cuadrados = sum((x - Promedio) ** 2 for x in Ventas_semanales)\n",
        "desviación_estándar = (suma_cuadrados / (len(Ventas_semanales)-1)) ** 0.5\n",
        "desviación_estándar"
      ],
      "metadata": {
        "colab": {
          "base_uri": "https://localhost:8080/"
        },
        "id": "bU0riG6vCZPs",
        "outputId": "0a12227b-82d8-4276-8d44-bc9e6626513b"
      },
      "execution_count": 12,
      "outputs": [
        {
          "output_type": "execute_result",
          "data": {
            "text/plain": [
              "3097.836488436875"
            ]
          },
          "metadata": {},
          "execution_count": 12
        }
      ]
    },
    {
      "cell_type": "code",
      "source": [
        "# Crea un diccionario con la información registrada en los puntos anteriores y nómbralo como info_ventas.\n",
        "info_ventas = {'Mejor_semana': semana_mejor_resultado,\n",
        "               'Peor_semana': semana_peor_resultado,\n",
        "               'Promedio_semanal': Promedio,\n",
        "               'Disperción_semanal': desviación_estándar\n",
        "               }\n",
        "print('La semana con mejor resultado de ventas es la semana', semana_mejor_resultado, 'con ventas por', Mejor_resultado)\n",
        "print('La semana con peor resultado de ventas es la semana', semana_peor_resultado, 'con ventas por', Peor_resultado)\n",
        "print('El promedio de las ventas semanales es', Promedio)\n",
        "print('La desviación estándar de las ventas semanales es', desviación_estándar)"
      ],
      "metadata": {
        "colab": {
          "base_uri": "https://localhost:8080/"
        },
        "id": "SkLAp94yGCV2",
        "outputId": "d2611d1e-9086-410f-abd6-b3f893a66107"
      },
      "execution_count": 23,
      "outputs": [
        {
          "output_type": "stream",
          "name": "stdout",
          "text": [
            "La semana con mejor resultado de ventas es la semana 7 con ventas por 35000\n",
            "La semana con peor resultado de ventas es la semana 1 con ventas por 25000\n",
            "El promedio de las ventas semanales es 29875.0\n",
            "La desviación estándar de las ventas semanales es 3097.836488436875\n"
          ]
        }
      ]
    },
    {
      "cell_type": "code",
      "source": [
        "# 2.1 Almacenar los resultados de lanzar un dado en una tupla de la siguiente manera\n",
        "Tupla_dados = (1, 2, 3, 4, 5, 6)"
      ],
      "metadata": {
        "id": "928B8vBsIpht"
      },
      "execution_count": 29,
      "outputs": []
    },
    {
      "cell_type": "code",
      "source": [
        "type(Tupla_dados)"
      ],
      "metadata": {
        "colab": {
          "base_uri": "https://localhost:8080/"
        },
        "id": "P1TwEDv3KAl8",
        "outputId": "68b6a2c3-f163-42ee-8c23-d5a1237952ed"
      },
      "execution_count": 30,
      "outputs": [
        {
          "output_type": "execute_result",
          "data": {
            "text/plain": [
              "tuple"
            ]
          },
          "metadata": {},
          "execution_count": 30
        }
      ]
    },
    {
      "cell_type": "code",
      "source": [
        "# 2.2 Use la función random.choice(tupla_dados) para recrear la selección aleatoria al lanzar un dado. Importe la librería random (import random).\n",
        "import random\n",
        "dado = random.choice(Tupla_dados)\n",
        "dado"
      ],
      "metadata": {
        "colab": {
          "base_uri": "https://localhost:8080/"
        },
        "id": "W33CqJYfKB5Z",
        "outputId": "912e50d1-c767-414c-8b27-c486ef4f8382"
      },
      "execution_count": 76,
      "outputs": [
        {
          "output_type": "execute_result",
          "data": {
            "text/plain": [
              "5"
            ]
          },
          "metadata": {},
          "execution_count": 76
        }
      ]
    },
    {
      "cell_type": "code",
      "source": [
        "# 2.3 Simule el lanzamiento de dos a la vez, registre el valor obtenido por cada lanzamiento de cada dado.\n",
        "def lanzar_dos_dados():\n",
        "  dado1 = random.choice(Tupla_dados)\n",
        "  dado2 = random.choice(Tupla_dados)\n",
        "  return dado1, dado2"
      ],
      "metadata": {
        "id": "ju_sQqtFKkaD"
      },
      "execution_count": 79,
      "outputs": []
    },
    {
      "cell_type": "code",
      "source": [
        "# 2.4 Ingrese por teclado el número de lanzamientos de ambos dados a la vez.\n",
        "def solicitar_numero_entero():\n",
        "    while True:\n",
        "        try:\n",
        "            cantidad = int(input(\"Por favor ingrese el número de lanzamientos que desea realizar: \"))\n",
        "            return cantidad\n",
        "        except ValueError:\n",
        "            print(\"Por favor, ingrese un número entero válido.\")\n",
        "\n",
        "cantidad_dados = solicitar_numero_entero()\n",
        "\n",
        "print(\"Cantidad de lanzamientos ingresada:\", cantidad_dados)"
      ],
      "metadata": {
        "colab": {
          "base_uri": "https://localhost:8080/"
        },
        "id": "kLytaCxsLekh",
        "outputId": "f9eedbdb-8d78-4723-8ef3-967153a9d20c"
      },
      "execution_count": 71,
      "outputs": [
        {
          "output_type": "stream",
          "name": "stdout",
          "text": [
            "Por favor ingrese el número de lanzamientos que desea realizar: 9\n",
            "Cantidad de lanzamientos ingresada: 9\n"
          ]
        }
      ]
    },
    {
      "cell_type": "code",
      "source": [
        "# 2.5 Muestre los lanzamientos resultantes.\n",
        "lanzamientos_resultantes = [lanzar_dos_dados() for X in range(cantidad_dados)]\n",
        "print(\"El resultado de los lanzamientos es:\", lanzamientos_resultantes)"
      ],
      "metadata": {
        "colab": {
          "base_uri": "https://localhost:8080/"
        },
        "id": "i9yUgzk7W-jl",
        "outputId": "19689361-3474-4761-a5a1-50d7ad0a4a8b"
      },
      "execution_count": 81,
      "outputs": [
        {
          "output_type": "stream",
          "name": "stdout",
          "text": [
            "El resultado de los lanzamientos es: [(1, 3), (1, 4), (3, 3), (2, 3), (4, 4), (3, 4), (5, 3), (2, 1), (1, 6)]\n"
          ]
        }
      ]
    },
    {
      "cell_type": "code",
      "source": [
        "# 2.6 Muestre la sumatoria de los dos valores resultantes al lanzar dos dados a la vez.\n",
        "sumatoria_valores = sum(dado1 + dado2 for dado1, dado2 in lanzamientos_resultantes)\n",
        "print('La suma de los valores obtenidos en los tiros aleatorios es:', sumatoria_valores)"
      ],
      "metadata": {
        "colab": {
          "base_uri": "https://localhost:8080/"
        },
        "id": "W2yBZsJTYnf4",
        "outputId": "2e626e9b-0684-49c4-b6a7-a6bf34260b95"
      },
      "execution_count": 83,
      "outputs": [
        {
          "output_type": "stream",
          "name": "stdout",
          "text": [
            "La suma de los valores obtenidos en los tiros aleatorios es: 53\n"
          ]
        }
      ]
    },
    {
      "cell_type": "code",
      "source": [
        "# 3 Ingrese texto por teclado y crea un diccionario que almacene la cantidad de veces que aparece cada una de las letras o caracteres\n",
        "texto = input(\"Ingrese un texto: \")\n",
        "conteo_caracteres = {}\n",
        "for caracter in texto:\n",
        "    if caracter in conteo_caracteres:\n",
        "        conteo_caracteres[caracter] += 1\n",
        "    else:\n",
        "        conteo_caracteres[caracter] = 1\n",
        "print(\"Conteo de caracteres:\", conteo_caracteres)\n"
      ],
      "metadata": {
        "colab": {
          "base_uri": "https://localhost:8080/"
        },
        "id": "avUpeiqTZXYQ",
        "outputId": "bac69320-0df4-4f78-998e-21bc1c0a320a"
      },
      "execution_count": 86,
      "outputs": [
        {
          "output_type": "stream",
          "name": "stdout",
          "text": [
            "Ingrese un texto: oso\n",
            "Conteo de caracteres: {'o': 2, 's': 1}\n"
          ]
        }
      ]
    }
  ]
}